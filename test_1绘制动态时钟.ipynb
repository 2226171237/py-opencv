{
 "cells": [
  {
   "cell_type": "markdown",
   "metadata": {},
   "source": [
    "# 绘制动态时钟"
   ]
  },
  {
   "cell_type": "markdown",
   "metadata": {},
   "source": [
    "完成如下效果图，时间随系统时钟而变。\n",
    "\n",
    "![](http://pic.ex2tron.top/cv2_draw_clock_dynamic_sample.gif)"
   ]
  },
  {
   "cell_type": "markdown",
   "metadata": {},
   "source": [
    "## 绘制表盘"
   ]
  },
  {
   "cell_type": "markdown",
   "metadata": {},
   "source": [
    "表盘上只有60条分/秒刻线和12条小时刻线，当然还有表盘的外部轮廓圆，也就是重点在如何画72根线。先把简单的圆画出来："
   ]
  },
  {
   "cell_type": "code",
   "execution_count": 13,
   "metadata": {},
   "outputs": [
    {
     "data": {
      "text/plain": [
       "<matplotlib.image.AxesImage at 0x26084075400>"
      ]
     },
     "execution_count": 13,
     "metadata": {},
     "output_type": "execute_result"
    },
    {
     "data": {
      "image/png": "[encoded data removed]",
      "text/plain": [
       "<Figure size 432x288 with 1 Axes>"
      ]
     },
     "metadata": {
      "needs_background": "light"
     },
     "output_type": "display_data"
    }
   ],
   "source": [
    "import cv2\n",
    "import math\n",
    "import datetime\n",
    "import numpy as np\n",
    "import matplotlib.pyplot as plt\n",
    "%matplotlib inline\n",
    "\n",
    "margin=5 #上下左右边距\n",
    "radius=220 #圆的半径\n",
    "center=(center_x,center_y)=(225,225) #圆心\n",
    "\n",
    "img=np.zeros((450,450,3),np.uint8)\n",
    "img=img+255\n",
    "cv2.circle(img,center,radius,(0,0,0),thickness=5)\n",
    "plt.imshow(img[:,:,::-1])"
   ]
  },
  {
   "cell_type": "code",
   "execution_count": 14,
   "metadata": {},
   "outputs": [
    {
     "data": {
      "text/plain": [
       "<matplotlib.image.AxesImage at 0x260840de6a0>"
      ]
     },
     "execution_count": 14,
     "metadata": {},
     "output_type": "execute_result"
    },
    {
     "data": {
      "image/png": "[encoded data removed]",
      "text/plain": [
       "<Figure size 432x288 with 1 Axes>"
      ]
     },
     "metadata": {
      "needs_background": "light"
     },
     "output_type": "display_data"
    }
   ],
   "source": [
    "pt1=[]\n",
    "# 画出60条秒线和分钟的刻度线\n",
    "for i in range(60):\n",
    "    x1=center_x+(radius-margin)*math.cos(i*6*np.pi/180.0)\n",
    "    y1=center_y+(radius-margin)*math.sin(i*6*np.pi/180.0)\n",
    "    pt1.append((int(x1),int(y1)))\n",
    "    x2=center_x+(radius-15)*math.cos(i*6*np.pi/180.0)\n",
    "    y2=center_y+(radius-15)*math.sin(i*6*np.pi/180.0)\n",
    "    cv2.line(img,pt1[i],(int(x2),int(y2)),(0,0,0),thickness=2)\n",
    "\n",
    "for i in range(12):\n",
    "    x=center_x+(radius-25)*math.cos(i*30*np.pi/180.0)\n",
    "    y=center_y+(radius-25)*math.sin(i*30*np.pi/180.0)\n",
    "    cv2.line(img,pt1[i*5],(int(x),int(y)),(0,0,0),thickness=5)\n",
    "plt.imshow(img[:,:,::-1])"
   ]
  },
  {
   "cell_type": "code",
   "execution_count": 15,
   "metadata": {},
   "outputs": [],
   "source": [
    "while(1):\n",
    "    # 不断拷贝表盘图，才能更新绘制，不然会重叠在一起\n",
    "    temp = np.copy(img)\n",
    "    # 5. 获取系统时间，画出动态的时-分-秒三条刻线\n",
    "    now_time = datetime.datetime.now()\n",
    "    hour, minute, second = now_time.hour, now_time.minute, now_time.second\n",
    "    # 画秒刻线\n",
    "    # OpenCV中的角度是顺时针计算的，所以需要转换下\n",
    "    sec_angle = second*6+270 if second <= 15 else (second-15)*6\n",
    "    sec_x = center_x+(radius-margin)*math.cos(sec_angle*np.pi/180.0)\n",
    "    sec_y = center_y+(radius-margin)*math.sin(sec_angle*np.pi/180.0)\n",
    "    cv2.line(temp, center, (int(sec_x), int(sec_y)), (203, 222, 166), 2)\n",
    "    # 画分刻线\n",
    "    min_angle = minute*6+270 if minute <= 15 else (minute-15)*6\n",
    "    min_x = center_x+(radius-35)*math.cos(min_angle*np.pi/180.0)\n",
    "    min_y = center_y+(radius-35)*math.sin(min_angle*np.pi/180.0)\n",
    "    cv2.line(temp, center, (int(min_x), int(min_y)), (186, 199, 137), 8)\n",
    "    # 画时刻线\n",
    "    hour_angle = hour*30+270 if hour <= 3 else (hour-3)*30\n",
    "    hour_x = center_x+(radius-65)*math.cos(hour_angle*np.pi/180.0)\n",
    "    hour_y = center_y+(radius-65)*math.sin(hour_angle*np.pi/180.0)\n",
    "    cv2.line(temp, center, (int(hour_x), int(hour_y)), (169, 198, 26), 15)\n",
    "    # 6. 添加当前日期文字\n",
    "    font = cv2.FONT_HERSHEY_SIMPLEX\n",
    "    time_str = now_time.strftime(\"%d/%m/%Y\")\n",
    "    cv2.putText(img, time_str, (135, 275), font, 1, (0, 0, 0), 2)\n",
    "    cv2.imshow('clocking', temp)\n",
    "    if cv2.waitKey(1) == 27:  # 按下ESC键退出\n",
    "        break"
   ]
  },
  {
   "cell_type": "code",
   "execution_count": null,
   "metadata": {},
   "outputs": [],
   "source": []
  }
 ],
 "metadata": {
  "kernelspec": {
   "display_name": "Python 3",
   "language": "python",
   "name": "python3"
  },
  "language_info": {
   "codemirror_mode": {
    "name": "ipython",
    "version": 3
   },
   "file_extension": ".py",
   "mimetype": "text/x-python",
   "name": "python",
   "nbconvert_exporter": "python",
   "pygments_lexer": "ipython3",
   "version": "3.6.3"
  },
  "toc": {
   "base_numbering": 1,
   "nav_menu": {},
   "number_sections": true,
   "sideBar": true,
   "skip_h1_title": false,
   "title_cell": "Table of Contents",
   "title_sidebar": "Contents",
   "toc_cell": false,
   "toc_position": {},
   "toc_section_display": true,
   "toc_window_display": false
  }
 },
 "nbformat": 4,
 "nbformat_minor": 2
}
