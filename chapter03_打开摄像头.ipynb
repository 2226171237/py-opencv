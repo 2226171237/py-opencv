{
 "cells": [
  {
   "cell_type": "markdown",
   "metadata": {},
   "source": [
    "# 打开摄像头\n",
    "学习打开摄像头捕获图片、播放本地视频，录制视频"
   ]
  },
  {
   "cell_type": "markdown",
   "metadata": {},
   "source": [
    "## 目标\n",
    "* 打开实现摄像头并捕获图片\n",
    "* 播放本地视频，录制视频\n",
    "* 函数cv2.VideoCapture(),cv2.VideoWriter()"
   ]
  },
  {
   "cell_type": "markdown",
   "metadata": {},
   "source": [
    "## 正文\n",
    "\n",
    "### 打开摄像头"
   ]
  },
  {
   "cell_type": "markdown",
   "metadata": {},
   "source": [
    "先使用cv2.VideoCapture(0)创建VideoCapture对象，参数0为摄像头得编号，第一个摄像头为0，第二位为1，一次类推。"
   ]
  },
  {
   "cell_type": "code",
   "execution_count": 1,
   "metadata": {},
   "outputs": [],
   "source": [
    "#打开摄像头，并进行灰度化显示\n",
    "import cv2\n",
    "capture=cv2.VideoCapture(0)\n",
    "while(True):\n",
    "    #捕获一帧\n",
    "    ret,frame=capture.read()\n",
    "    #将这一帧转化为灰度图\n",
    "    gray=cv2.cvtColor(frame,cv2.COLOR_BGR2GRAY)\n",
    "    cv2.imshow('frame',gray)\n",
    "    if cv2.waitKey(1)==ord('q'):\n",
    "        break"
   ]
  },
  {
   "cell_type": "markdown",
   "metadata": {},
   "source": [
    "函数：\n",
    "* capture.read():函数用于捕获图像\n",
    "```\n",
    "返回值\n",
    "    ret:第一个返回值，为bool类型，表示当前这一帧是否获取成功\n",
    "    fram:为获取得一帧图像\n",
    "```\n",
    "* cv2.cvtColor()：用于转换颜色 t的意思transform或to\n",
    "```\n",
    "参数1：图像数据\n",
    "参数2：要转化的颜色\n",
    "    cv2.COLOR_BGR2GRAY：表示RGB到灰度图\n",
    "```"
   ]
  },
  {
   "cell_type": "markdown",
   "metadata": {},
   "source": [
    "### 获取摄像头的属性\n",
    "* 函数capture.get(propId)\n",
    "\n",
    "```\n",
    "如获取捕获分辨率、亮度、和对比度等。\n",
    "propId为0~18的数字，代表不同的属性，属性表链接：https://docs.opencv.org/3.3.0/d4/d15/group__videoio__flags__base.html#gaeb8dd9c89c10a5c63c139bf7c4f5704d\n",
    "```\n",
    "\n",
    "另外还可以通过capture.set(propId,value)来修改属性值,如下：\n"
   ]
  },
  {
   "cell_type": "code",
   "execution_count": 1,
   "metadata": {},
   "outputs": [
    {
     "name": "stdout",
     "output_type": "stream",
     "text": [
      "640.0 480.0\n"
     ]
    },
    {
     "data": {
      "text/plain": [
       "True"
      ]
     },
     "execution_count": 1,
     "metadata": {},
     "output_type": "execute_result"
    }
   ],
   "source": [
    "#捕获图片分辨率\n",
    "#propId可以直接为数字，也可以用opencv的符号表示\n",
    "import cv2\n",
    "capture=cv2.VideoCapture(0)\n",
    "width,height=capture.get(3),capture.get(4)\n",
    "print(width,height)\n",
    "\n",
    "#以原分辨率的一倍来捕获\n",
    "capture.set(cv2.CAP_PROP_FRAME_WIDTH,width*2)\n",
    "capture.set(cv2.CAP_PROP_FRAME_HEIGHT,height*2)"
   ]
  },
  {
   "cell_type": "markdown",
   "metadata": {},
   "source": [
    "注： 某些摄像头设定分辨率等参数时会无效，因为它有固定的分辨率大小支持，一般可在摄像头的资料页中找到"
   ]
  },
  {
   "cell_type": "markdown",
   "metadata": {},
   "source": [
    "## 播放本地视频"
   ]
  },
  {
   "cell_type": "markdown",
   "metadata": {},
   "source": [
    "将摄像头的编号换成视频的路径，就可以播放本地视频了，cv.waitKey()的参数表示暂停，它的值越大表示视频播放的越慢。通常设置为25或30."
   ]
  },
  {
   "cell_type": "code",
   "execution_count": 1,
   "metadata": {},
   "outputs": [],
   "source": [
    "#播放本地视频\n",
    "import cv2\n",
    "capture=cv2.VideoCapture('demo_video.mp4')\n",
    "while(capture.isOpened()):\n",
    "    ret,frame=capture.read()\n",
    "    gray=cv2.cvtColor(frame,cv2.COLOR_BGR2GRAY)\n",
    "    cv2.imshow('frame',gray)\n",
    "    if cv2.waitKey(30)==ord('q'):\n",
    "        break"
   ]
  },
  {
   "cell_type": "markdown",
   "metadata": {},
   "source": [
    "## 录制视频\n",
    "保存图片用cv2.imwrite()函数，要保存视频需要创建一个VideoWriter对象，给它传入四个参数：\n",
    "* 输出的文件名，如：output.avi\n",
    "* 编码方式FourCC码\n",
    "* 帧频FPS\n",
    "* 要保存的分辨率大小"
   ]
  },
  {
   "cell_type": "markdown",
   "metadata": {},
   "source": [
    "FourCC是用来指定视频编码方式的四字节码，所有的编码可参考Video Codecs。如MJPG编码可以这样写： ```cv2.VideoWriter_fourcc(*'MJPG')```或```cv2.VideoWriter_fourcc('M','J','P','G')```"
   ]
  },
  {
   "cell_type": "code",
   "execution_count": 1,
   "metadata": {},
   "outputs": [],
   "source": [
    "import cv2\n",
    "capture=cv2.VideoCapture(0)\n",
    "#定义编码方式，并创建VedioWriter对象\n",
    "fourcc=cv2.VideoWriter_fourcc(*'MJPG')\n",
    "outfile=cv2.VideoWriter('output.avi',fourcc,25.,(640,480))\n",
    "while(capture.isOpened()):\n",
    "    ret,frame=capture.read()\n",
    "    if ret:\n",
    "        outfile.write(frame) #写入文件\n",
    "        cv2.imshow('frame',frame)\n",
    "        if cv2.waitKey(1)==ord('q'):\n",
    "            break\n",
    "    else:\n",
    "        break\n",
    "        "
   ]
  },
  {
   "cell_type": "markdown",
   "metadata": {},
   "source": [
    "## 小结\n",
    "* 使用```cv2.VideoCapture()```创建视频对象，然后在循环中一帧帧显示图像。参数传入数字时，代表打开摄像头，传入本地视频路径时，表示播放本地视频。\n",
    "\n",
    "* ```cap.get(propId)```获取视频属性，```cap.set(propId,value)```设置视频属性。\n",
    "\n",
    "* ```cv2.VideoWriter()```创建视频写入对象，用来录制/保存视频。"
   ]
  },
  {
   "cell_type": "markdown",
   "metadata": {},
   "source": [
    "## 练习"
   ]
  },
  {
   "cell_type": "markdown",
   "metadata": {},
   "source": [
    "### 滑动条："
   ]
  },
  {
   "cell_type": "markdown",
   "metadata": {},
   "source": [
    "#### 滑动条的使用：\n",
    "* 创建滑动条```cv2.createTrackbar('R','image',0,255,call_back)```:\n",
    "```\n",
    "参数1：滑动条名称\n",
    "参数2：所在窗口名称\n",
    "参数3：当前的值\n",
    "参数4：最大值\n",
    "参数5：回调函数名，回调函数中默认有一个表示当前值的参数\n",
    "```\n",
    "* 创建好之后，可以在回调函数中获取滑动条的值，也可以用：```cv2.getTrackbarPos()```得到，其中，参数1是滑动条的名称，参数2是窗口的名称"
   ]
  },
  {
   "cell_type": "markdown",
   "metadata": {},
   "source": [
    "#### RGB调色板\n",
    "下面实现RGB调色板，理解滑动条的使用："
   ]
  },
  {
   "cell_type": "code",
   "execution_count": 2,
   "metadata": {},
   "outputs": [],
   "source": [
    "import cv2\n",
    "import numpy as np\n",
    "\n",
    "# 回调函数，x表示滑块的位置，\n",
    "def nothing(x):\n",
    "    pass\n",
    "\n",
    "img=np.zeros((300,512,3),np.uint8)\n",
    "cv2.namedWindow('image')\n",
    "\n",
    "#创建RGB3个滑动条\n",
    "cv2.createTrackbar('R','image',0,255,nothing)\n",
    "cv2.createTrackbar('G','image',0,255,nothing)\n",
    "cv2.createTrackbar('B','image',0,255,nothing)\n",
    "\n",
    "while(True):\n",
    "    cv2.imshow('image',img)\n",
    "    if cv2.waitKey(1)==27:\n",
    "        break\n",
    "    \n",
    "    # 获取滑动块的值\n",
    "    r=cv2.getTrackbarPos('R','image')\n",
    "    g=cv2.getTrackbarPos('G','image')\n",
    "    b=cv2.getTrackbarPos('B','image')\n",
    "    \n",
    "    #设定img颜色\n",
    "    img[:]=[b,g,r]\n",
    "    "
   ]
  },
  {
   "cell_type": "markdown",
   "metadata": {},
   "source": [
    "* 请先阅读番外篇：滑动条，然后实现一个可以拖动滑块播放视频的功能。（提示：需要用到 ```cv2.CAP_PROP_FRAME_COUNT```和```cv2.CAP_PROP_POS_FRAMES```两个属性）\n",
    "\n",
    "```\n",
    "cv2.CAP_PROP_FRAME_COUNT：文件的总帧数\n",
    "cv2.CAP_PROP_POS_FRAMES：下一个要解码/捕获的帧的基于0的索引。\n",
    "\n",
    "```"
   ]
  },
  {
   "cell_type": "code",
   "execution_count": 1,
   "metadata": {},
   "outputs": [],
   "source": [
    "#播放本地视频\n",
    "import cv2\n",
    "capture=cv2.VideoCapture('demo_video.mp4')\n",
    "frameNum=capture.get(cv2.CAP_PROP_FRAME_COUNT)\n",
    "cv2.namedWindow('video')\n",
    "def run_vedio(x):\n",
    "    capture.set(cv2.CAP_PROP_POS_FRAMES,x)\n",
    "\n",
    "cv2.createTrackbar('run','video',1,int(frameNum),run_vedio)\n",
    "\n",
    "while(capture.isOpened()):\n",
    "    ret,frame=capture.read()\n",
    "    cv2.imshow('video',frame)\n",
    "    if cv2.waitKey(30)==ord('q'):\n",
    "        break"
   ]
  },
  {
   "cell_type": "code",
   "execution_count": null,
   "metadata": {},
   "outputs": [],
   "source": []
  }
 ],
 "metadata": {
  "kernelspec": {
   "display_name": "Python 3",
   "language": "python",
   "name": "python3"
  },
  "language_info": {
   "codemirror_mode": {
    "name": "ipython",
    "version": 3
   },
   "file_extension": ".py",
   "mimetype": "text/x-python",
   "name": "python",
   "nbconvert_exporter": "python",
   "pygments_lexer": "ipython3",
   "version": "3.6.3"
  },
  "toc": {
   "base_numbering": 1,
   "nav_menu": {},
   "number_sections": true,
   "sideBar": true,
   "skip_h1_title": false,
   "title_cell": "Table of Contents",
   "title_sidebar": "Contents",
   "toc_cell": false,
   "toc_position": {},
   "toc_section_display": true,
   "toc_window_display": false
  }
 },
 "nbformat": 4,
 "nbformat_minor": 2
}
