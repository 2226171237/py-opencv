{
 "cells": [
  {
   "cell_type": "markdown",
   "metadata": {},
   "source": [
    "# 鼠标绘图"
   ]
  },
  {
   "cell_type": "markdown",
   "metadata": {},
   "source": [
    "## 目标\n",
    "\n",
    "* 捕获鼠标事件\n",
    "* 函数 cv2.setMouseCallback()"
   ]
  },
  {
   "cell_type": "markdown",
   "metadata": {},
   "source": [
    "## 正文\n",
    "我们需要创建一个鼠标的回调函数来获取鼠标当前的位置、当前的事件如左键按下/左键释放或是右键单击等等，然后执行相应的功能。\n",
    "\n",
    "使用cv2.setMouseCallback()函数来船舰鼠标回调函数，如下，在左键单击时，打印当前鼠标的位置。"
   ]
  },
  {
   "cell_type": "code",
   "execution_count": 3,
   "metadata": {},
   "outputs": [],
   "source": [
    "import cv2\n",
    "import numpy as np"
   ]
  },
  {
   "cell_type": "code",
   "execution_count": 3,
   "metadata": {},
   "outputs": [
    {
     "name": "stdout",
     "output_type": "stream",
     "text": [
      "175 192\n",
      "223 240\n",
      "324 335\n",
      "170 256\n",
      "194 94\n",
      "6 11\n",
      "492 492\n"
     ]
    }
   ],
   "source": [
    "#鼠标回调函数\n",
    "def mouse_event(event,x,y,flags,param):\n",
    "    #event用来判断具体什么事件\n",
    "    if event==cv2.EVENT_LBUTTONDOWN:\n",
    "        print(x,y)\n",
    "\n",
    "img=np.zeros((512,512,3),np.uint8)\n",
    "cv2.namedWindow('image')\n",
    "\n",
    "#定义鼠标回调函数\n",
    "cv2.setMouseCallback('image',mouse_event)\n",
    "\n",
    "while True:\n",
    "    cv2.imshow('image',img)\n",
    "    #按下ESC退出\n",
    "    if cv2.waitKey(20)==27: \n",
    "        break"
   ]
  },
  {
   "cell_type": "markdown",
   "metadata": {},
   "source": [
    "注：回调函数的参数的格式时固定的，不可更改。\n",
    "\n",
    "cv2.setMouseCallback第一个参数：窗口名，第二个参数：回调函数。"
   ]
  },
  {
   "cell_type": "markdown",
   "metadata": {},
   "source": [
    "如下所有事件"
   ]
  },
  {
   "cell_type": "code",
   "execution_count": 6,
   "metadata": {},
   "outputs": [
    {
     "name": "stdout",
     "output_type": "stream",
     "text": [
      "['EVENT_FLAG_ALTKEY', 'EVENT_FLAG_CTRLKEY', 'EVENT_FLAG_LBUTTON', 'EVENT_FLAG_MBUTTON', 'EVENT_FLAG_RBUTTON', 'EVENT_FLAG_SHIFTKEY', 'EVENT_LBUTTONDBLCLK', 'EVENT_LBUTTONDOWN', 'EVENT_LBUTTONUP', 'EVENT_MBUTTONDBLCLK', 'EVENT_MBUTTONDOWN', 'EVENT_MBUTTONUP', 'EVENT_MOUSEHWHEEL', 'EVENT_MOUSEMOVE', 'EVENT_MOUSEWHEEL', 'EVENT_RBUTTONDBLCLK', 'EVENT_RBUTTONDOWN', 'EVENT_RBUTTONUP']\n"
     ]
    }
   ],
   "source": [
    "event=[i for i in dir(cv2) if 'EVENT' in i]\n",
    "print(event)"
   ]
  },
  {
   "cell_type": "markdown",
   "metadata": {},
   "source": [
    "## 综合实例"
   ]
  },
  {
   "cell_type": "markdown",
   "metadata": {},
   "source": [
    "在图像上用鼠标画图，可以画圆或矩形，按m键在两种模式下切换。左键按下时开始画图，移动到哪儿画到哪儿，左键释放时结束画图。听上去很复杂，是吗？一步步来看：\n",
    "* 用鼠标画图：需要定义鼠标的回调函数mouse_event\n",
    "* 画圆或矩形：需要定义一个画图的模式mode\n",
    "* 左键单击、移动、释放：需要捕获三个不同的事件\n",
    "* 开始画图，结束画图：需要定义一个画图的标记位drawing"
   ]
  },
  {
   "cell_type": "code",
   "execution_count": 1,
   "metadata": {},
   "outputs": [],
   "source": [
    "import cv2\n",
    "import numpy as np\n",
    "\n",
    "drawing=False #是否开始画图\n",
    "model=True #True为矩形，False为圆\n",
    "start=(-1,1)\n",
    "\n",
    "def mouse_event(event,x,y,flags,param):\n",
    "    global drawing,model,start\n",
    "    \n",
    "    if event==cv2.EVENT_LBUTTONDOWN:\n",
    "        drawing=True\n",
    "        start=(x,y)\n",
    "    elif event==cv2.EVENT_MOUSEMOVE:\n",
    "        if drawing:\n",
    "            if model:\n",
    "                cv2.rectangle(img,start,(x,y),(0,255,0),1)\n",
    "            else:\n",
    "                cv2.circle(img,(x,y),5,(0,0,255),-1)\n",
    "    elif event==cv2.EVENT_LBUTTONUP:\n",
    "        drawing=False\n",
    "        if model:\n",
    "            cv2.rectangle(img,start,(x,y),(0,255,0),1)\n",
    "        else:\n",
    "            cv2.circle(img,(x,y),5,(0,0,255),-1)\n",
    "            \n",
    "img=np.zeros((512,512,3),np.uint8)\n",
    "cv2.namedWindow('image')\n",
    "\n",
    "cv2.setMouseCallback('image',mouse_event)\n",
    "while True:\n",
    "    cv2.imshow('image',img)\n",
    "    if cv2.waitKey(1)==ord('m'):\n",
    "        model= not model\n",
    "    elif cv2.waitKey(1)==27:\n",
    "        break"
   ]
  },
  {
   "cell_type": "markdown",
   "metadata": {},
   "source": [
    "## 练习\n",
    "* 1. 实现用鼠标画矩形，跟实例差不多，但只实时画一个，类似下面动图：\n",
    "![](http://pic.ex2tron.top/cv2_live_draw_rectangle.gif)"
   ]
  },
  {
   "cell_type": "code",
   "execution_count": 1,
   "metadata": {},
   "outputs": [],
   "source": [
    "import cv2\n",
    "import numpy as np\n",
    "\n",
    "drawing=False #是否开始画图\n",
    "start=(-1,1)\n",
    "img=np.zeros((512,512,3),np.uint8)\n",
    "img_temp=np.zeros((512,512,3),np.uint8)\n",
    "def mouse_event(event,x,y,flags,param):\n",
    "    global drawing,model,start,img,img_temp\n",
    "    \n",
    "    if event==cv2.EVENT_LBUTTONDOWN:\n",
    "        drawing=True\n",
    "        img_temp=img.copy()\n",
    "        start=(x,y)\n",
    "    elif event==cv2.EVENT_MOUSEMOVE:\n",
    "        if drawing:\n",
    "            img=img_temp.copy()\n",
    "            cv2.rectangle(img,start,(x,y),(0,255,0),1)\n",
    "    elif event==cv2.EVENT_LBUTTONUP:\n",
    "        drawing=False\n",
    "        img=img_temp.copy()\n",
    "        cv2.rectangle(img,start,(x,y),(0,255,0),1)\n",
    "            \n",
    "\n",
    "cv2.namedWindow('image')\n",
    "\n",
    "cv2.setMouseCallback('image',mouse_event)\n",
    "while True:\n",
    "    cv2.imshow('image',img)\n",
    "    if cv2.waitKey(1)==ord('m'):\n",
    "        model= not model\n",
    "    elif cv2.waitKey(1)==27:\n",
    "        break"
   ]
  },
  {
   "cell_type": "markdown",
   "metadata": {},
   "source": [
    "* 2. 做一个在白色面板上绘图的简单程序，可用滑动条调整颜色和笔刷大小。"
   ]
  },
  {
   "cell_type": "code",
   "execution_count": 2,
   "metadata": {},
   "outputs": [],
   "source": [
    "import cv2\n",
    "import numpy as np\n",
    "\n",
    "drawing=False #是否开始画图\n",
    "start=(-1,1)\n",
    "img=np.zeros((512,512,3),np.uint8)+255\n",
    "img_temp=np.zeros((512,512,3),np.uint8)+255\n",
    "color=[0,0,0]\n",
    "width=1\n",
    "#颜色滑动条回调函数\n",
    "def track_color_r_bar(x):\n",
    "    global color\n",
    "    color[2]=x\n",
    "def track_color_g_bar(x):\n",
    "    global color\n",
    "    color[1]=x\n",
    "def track_color_b_bar(x):\n",
    "    global color\n",
    "    color[0]=x\n",
    "    \n",
    "#线宽大小滑动条回调函数\n",
    "def track_width_bar(x):\n",
    "    global width\n",
    "    width=x\n",
    "\n",
    "#鼠标回调函数\n",
    "def mouse_event(event,x,y,flags,param):\n",
    "    global drawing,model,start,img,img_temp,color,width\n",
    "    \n",
    "    if event==cv2.EVENT_LBUTTONDOWN:\n",
    "        drawing=True\n",
    "        img_temp=img.copy()\n",
    "        start=(x,y)\n",
    "    elif event==cv2.EVENT_MOUSEMOVE:\n",
    "        if drawing:\n",
    "            img=img_temp.copy()\n",
    "            cv2.rectangle(img,start,(x,y),tuple(color),width)\n",
    "    elif event==cv2.EVENT_LBUTTONUP:\n",
    "        drawing=False\n",
    "        img=img_temp.copy()\n",
    "        cv2.rectangle(img,start,(x,y),tuple(color),width)\n",
    "            \n",
    "\n",
    "cv2.namedWindow('image')\n",
    "\n",
    "cv2.createTrackbar('R','image',0,255,track_color_r_bar)\n",
    "cv2.createTrackbar('G','image',0,255,track_color_g_bar)\n",
    "cv2.createTrackbar('B','image',0,255,track_color_b_bar)\n",
    "cv2.createTrackbar('width','image',1,6,track_width_bar)\n",
    "\n",
    "cv2.setMouseCallback('image',mouse_event)\n",
    "while True:\n",
    "    cv2.imshow('image',img)\n",
    "    if cv2.waitKey(1)==ord('m'):\n",
    "        model= not model\n",
    "    elif cv2.waitKey(1)==27:\n",
    "        break"
   ]
  },
  {
   "cell_type": "code",
   "execution_count": null,
   "metadata": {},
   "outputs": [],
   "source": []
  }
 ],
 "metadata": {
  "kernelspec": {
   "display_name": "Python 3",
   "language": "python",
   "name": "python3"
  },
  "language_info": {
   "codemirror_mode": {
    "name": "ipython",
    "version": 3
   },
   "file_extension": ".py",
   "mimetype": "text/x-python",
   "name": "python",
   "nbconvert_exporter": "python",
   "pygments_lexer": "ipython3",
   "version": "3.6.3"
  },
  "toc": {
   "base_numbering": 1,
   "nav_menu": {},
   "number_sections": true,
   "sideBar": true,
   "skip_h1_title": false,
   "title_cell": "Table of Contents",
   "title_sidebar": "Contents",
   "toc_cell": false,
   "toc_position": {},
   "toc_section_display": true,
   "toc_window_display": false
  }
 },
 "nbformat": 4,
 "nbformat_minor": 2
}
