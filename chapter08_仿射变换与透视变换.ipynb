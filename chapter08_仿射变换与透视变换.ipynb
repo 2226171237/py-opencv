{
 "cells": [
  {
   "cell_type": "markdown",
   "metadata": {},
   "source": [
    "# 仿射变换与透视变换\n",
    "![](http://jupter-oss.oss-cn-hangzhou.aliyuncs.com/public/files/image/1095279207225/1547435491894_rYMBHDAnlh.jpg)"
   ]
  },
  {
   "cell_type": "markdown",
   "metadata": {},
   "source": [
    "常见的2D图像变换从原理上讲主要包括基于2×3矩阵的仿射变换和基于3×3矩阵透视变换。"
   ]
  },
  {
   "cell_type": "markdown",
   "metadata": {},
   "source": [
    "## 仿射变换\n",
    "基本的图像变换就是二维坐标的变换：从一种二维坐标(x,y)到另一种二维坐标(u,v)的线性变换：\n",
    "\n",
    "$$u=a_1x+b_1y+c_1$$\n",
    "\n",
    "$$v=a_2x+b_2y+c_2$$"
   ]
  },
  {
   "cell_type": "markdown",
   "metadata": {},
   "source": [
    "如果写成矩阵的形式，就是：\n",
    "\n",
    "$$\n",
    "\\left[\n",
    " \\begin{matrix}\n",
    "   u \\\\\n",
    "   v\n",
    "  \\end{matrix} \n",
    "\\right]\n",
    "=\n",
    "\\left[\n",
    " \\begin{matrix}\n",
    "   a_1 & b_1 \\\\\n",
    "   a_2 & b_2\n",
    "  \\end{matrix} \n",
    "\\right]\n",
    "\\left[\n",
    " \\begin{matrix}\n",
    "   x \\\\\n",
    "   y \n",
    "  \\end{matrix} \n",
    "\\right]\n",
    "+\n",
    "\\left[\n",
    " \\begin{matrix}\n",
    "   c_1 \\\\\n",
    "   c_2\n",
    "  \\end{matrix} \n",
    "\\right]\n",
    "$$"
   ]
  },
  {
   "cell_type": "markdown",
   "metadata": {},
   "source": [
    "作如下定义：\n",
    "$$\n",
    "R=\n",
    "\\left[\n",
    " \\begin{matrix}\n",
    "   a_1 & b_1 \\\\\n",
    "   a_2 & b_2\n",
    "  \\end{matrix} \n",
    "\\right]\n",
    ",\n",
    "t=\n",
    "\\left[\n",
    " \\begin{matrix}\n",
    "   c_1 \\\\\n",
    "   c_2\n",
    "  \\end{matrix} \n",
    "\\right]\n",
    "，\n",
    "T=\n",
    "\\left[\n",
    " \\begin{matrix}\n",
    "   R & t \\\\\n",
    "  \\end{matrix} \n",
    "\\right]\n",
    "$$"
   ]
  },
  {
   "cell_type": "markdown",
   "metadata": {},
   "source": [
    "矩阵T(2×3)就称为仿射变换的变换矩阵，R为线性变换矩阵，t为平移矩阵，简单来说，仿射变换就是线性变换+平移。变换后直线依然是直线，平行线依然是平行线，直线间的相对位置关系不变，因此非共线的三个对应点便可确定唯一的一个仿射变换，线性变换4个自由度+平移2个自由度→仿射变换自由度为6。\n",
    "\n",
    "![](http://jupter-oss.oss-cn-hangzhou.aliyuncs.com/public/files/image/1095279207225/1547437292127_YcgVA6mway.jpg)"
   ]
  },
  {
   "cell_type": "code",
   "execution_count": 2,
   "metadata": {},
   "outputs": [
    {
     "data": {
      "image/png": "[encoded data removed]",
      "text/plain": [
       "<Figure size 432x288 with 2 Axes>"
      ]
     },
     "metadata": {
      "needs_background": "light"
     },
     "output_type": "display_data"
    }
   ],
   "source": [
    "import cv2\n",
    "import numpy as np\n",
    "import matplotlib.pyplot as plt\n",
    "%matplotlib inline\n",
    "\n",
    "img=cv2.imread('drawing.jpg')\n",
    "rows,cols=img.shape[:2]\n",
    "\n",
    "#变换前3个点\n",
    "pts1=np.float32([[50,65],[150,65],[210,210]])\n",
    "#变换后三个点\n",
    "pts2=np.float32([[50,100],[150,65],[100,250]])\n",
    "\n",
    "#生成变换矩阵\n",
    "M=cv2.getAffineTransform(pts1,pts2)\n",
    "dst=cv2.warpAffine(img,M,(cols,rows))\n",
    "\n",
    "plt.subplot(121)\n",
    "plt.imshow(img),plt.title('input')\n",
    "plt.subplot(122)\n",
    "plt.imshow(dst),plt.title('output')\n",
    "plt.show()"
   ]
  },
  {
   "cell_type": "markdown",
   "metadata": {},
   "source": [
    "平移旋转缩放和翻转分别对应不同的变换矩阵。\n",
    "\n",
    "### 平移\n",
    "![](http://jupter-oss.oss-cn-hangzhou.aliyuncs.com/public/files/image/1095279207225/1547437504407_lTtWxcMEPZ.jpg)"
   ]
  },
  {
   "cell_type": "markdown",
   "metadata": {},
   "source": [
    "平移就是x和y方向的直接移动，可以上下/左右移动，自由度为2，变换矩阵表示为：\n",
    "$$\n",
    "u=x+t_x  \\\\\n",
    "v=y+t_y\n",
    "$$\n",
    "\n",
    "$$\n",
    "\\left[\n",
    " \\begin{matrix}\n",
    "   u \\\\\n",
    "   v\n",
    "  \\end{matrix} \n",
    "\\right]\n",
    "=\n",
    "\\left[\n",
    " \\begin{matrix}\n",
    "   1 & 0 \\\\\n",
    "   0 & 1\n",
    "  \\end{matrix} \n",
    "\\right]\n",
    "\\left[\n",
    " \\begin{matrix}\n",
    "   x \\\\\n",
    "   y \n",
    "  \\end{matrix} \n",
    "\\right]\n",
    "+\n",
    "\\left[\n",
    " \\begin{matrix}\n",
    "   t_x \\\\\n",
    "   t_y\n",
    "  \\end{matrix} \n",
    "\\right]\n",
    "$$"
   ]
  },
  {
   "cell_type": "markdown",
   "metadata": {},
   "source": [
    "###  旋转\n",
    "![](http://jupter-oss.oss-cn-hangzhou.aliyuncs.com/public/files/image/1095279207225/1547437614554_0st0ufUa3H.jpg)"
   ]
  },
  {
   "cell_type": "markdown",
   "metadata": {},
   "source": [
    "旋转是坐标轴方向绕原点旋转一定的角度θ，自由度为1，不包含平移，如顺时针旋转可以表示为：\n",
    "\n",
    "$$\n",
    "u=xcos\\theta-ysin\\theta \\\\\n",
    "v=xsin\\theta+ycos\\theta\n",
    "$$\n",
    "\n",
    "$$\n",
    "\\left[\n",
    " \\begin{matrix}\n",
    "   u \\\\\n",
    "   v\n",
    "  \\end{matrix} \n",
    "\\right]\n",
    "=\n",
    "\\left[\n",
    " \\begin{matrix}\n",
    "   cos\\theta & -sin\\theta \\\\\n",
    "   sin\\theta & cos\\theta\n",
    "  \\end{matrix} \n",
    "\\right]\n",
    "\\left[\n",
    " \\begin{matrix}\n",
    "   x \\\\\n",
    "   y \n",
    "  \\end{matrix} \n",
    "\\right]\n",
    "+\n",
    "\\left[\n",
    " \\begin{matrix}\n",
    "   0 \\\\\n",
    "   0\n",
    "  \\end{matrix} \n",
    "\\right]\n",
    "$$"
   ]
  },
  {
   "cell_type": "markdown",
   "metadata": {},
   "source": [
    "### 翻转\n",
    "翻转是x或y某个方向或全部方向上取反，自由度为2，比如这里以垂直翻转为例：\n",
    "\n",
    "$$\n",
    "u=x \\\\\n",
    "v=-y\n",
    "$$\n",
    "\n",
    "$$\n",
    "\\left[\n",
    " \\begin{matrix}\n",
    "   u \\\\\n",
    "   v\n",
    "  \\end{matrix} \n",
    "\\right]\n",
    "=\n",
    "\\left[\n",
    " \\begin{matrix}\n",
    "   1 & 0 \\\\\n",
    "   0 & -1\n",
    "  \\end{matrix} \n",
    "\\right]\n",
    "\\left[\n",
    " \\begin{matrix}\n",
    "   x \\\\\n",
    "   y \n",
    "  \\end{matrix} \n",
    "\\right]\n",
    "+\n",
    "\\left[\n",
    " \\begin{matrix}\n",
    "   0 \\\\\n",
    "   0\n",
    "  \\end{matrix} \n",
    "\\right]\n",
    "$$"
   ]
  },
  {
   "cell_type": "markdown",
   "metadata": {},
   "source": [
    "### 刚体变换"
   ]
  },
  {
   "cell_type": "markdown",
   "metadata": {},
   "source": [
    "旋转+平移也称刚体变换（Rigid Transform），就是说如果图像变换前后两点间的距离仍然保持不变，那么这种变化就称为刚体变换。刚体变换包括了平移、旋转和翻转，自由度为3。旋转和平移变换矩阵可以表示为："
   ]
  },
  {
   "cell_type": "markdown",
   "metadata": {},
   "source": [
    "$$\n",
    "u=xcos\\theta-ysin\\theta+t_x \\\\\n",
    "v=xsin\\theta+ycos\\theta+t_y\n",
    "$$\n",
    "\n",
    "$$\n",
    "\\left[\n",
    " \\begin{matrix}\n",
    "   u \\\\\n",
    "   v\n",
    "  \\end{matrix} \n",
    "\\right]\n",
    "=\n",
    "\\left[\n",
    " \\begin{matrix}\n",
    "   cos\\theta & -sin\\theta \\\\\n",
    "   sin\\theta & cos\\theta\n",
    "  \\end{matrix} \n",
    "\\right]\n",
    "\\left[\n",
    " \\begin{matrix}\n",
    "   x \\\\\n",
    "   y \n",
    "  \\end{matrix} \n",
    "\\right]\n",
    "+\n",
    "\\left[\n",
    " \\begin{matrix}\n",
    "   t_x \\\\\n",
    "   t_y\n",
    "  \\end{matrix} \n",
    "\\right]\n",
    "$$\n",
    "\n",
    "由于只是旋转和平移，刚体变换保持了直线间的长度不变，所以也称欧式变换（变化前后保持欧氏距离）。"
   ]
  },
  {
   "cell_type": "markdown",
   "metadata": {},
   "source": [
    "### 缩放\n",
    "缩放是x和y方向的尺度（倍数）变换，在有些资料上非等比例的缩放也称为拉伸/挤压，等比例缩放自由度为1，非等比例缩放自由度为2，矩阵可以表示为：\n",
    "\n",
    "$$\n",
    "u=s_xx \\\\\n",
    "v=s_yy\n",
    "$$\n",
    "\n",
    "$$\n",
    "\\left[\n",
    " \\begin{matrix}\n",
    "   u \\\\\n",
    "   v\n",
    "  \\end{matrix} \n",
    "\\right]\n",
    "=\n",
    "\\left[\n",
    " \\begin{matrix}\n",
    "   s_x & 0 \\\\\n",
    "   0 & s_y\n",
    "  \\end{matrix} \n",
    "\\right]\n",
    "\\left[\n",
    " \\begin{matrix}\n",
    "   x \\\\\n",
    "   y \n",
    "  \\end{matrix} \n",
    "\\right]\n",
    "+\n",
    "\\left[\n",
    " \\begin{matrix}\n",
    "   0 \\\\\n",
    "   0\n",
    "  \\end{matrix} \n",
    "\\right]\n",
    "$$"
   ]
  },
  {
   "cell_type": "markdown",
   "metadata": {},
   "source": [
    "### 相似变换\n",
    "\n",
    "相似变换又称缩放旋转，相似变换包含了旋转、等比例缩放和平移等变换，自由度为4。在OpenCV中，旋转就是用相似变换实现的：\n",
    "\n",
    "若缩放比例为scale，旋转角度为 θ ，旋转中心是$(center_x,center_y)$，则仿射变换可以表示为：\n",
    "$$\n",
    "\\left[\n",
    " \\begin{matrix}\n",
    "   u \\\\\n",
    "   v\n",
    "  \\end{matrix} \n",
    "\\right]\n",
    "=\n",
    "\\left[\n",
    " \\begin{matrix}\n",
    "   \\alpha & \\beta \\\\\n",
    "   -\\beta & \\alpha\n",
    "  \\end{matrix} \n",
    "\\right]\n",
    "\\left[\n",
    " \\begin{matrix}\n",
    "   x \\\\\n",
    "   y \n",
    "  \\end{matrix} \n",
    "\\right]\n",
    "+\n",
    "\\left[\n",
    " \\begin{matrix}\n",
    "   (1-\\alpha)center_x-\\beta center_y \\\\\n",
    "   \\beta center_y+(1-\\alpha)center_x\n",
    "  \\end{matrix} \n",
    "\\right]\n",
    "\\\\\n",
    "\\alpha=scale * cos\\theta\\\\\n",
    "\\beta=scale * sin\\theta\n",
    "$$"
   ]
  },
  {
   "cell_type": "markdown",
   "metadata": {},
   "source": [
    "相似变换相比刚体变换加了缩放，所以并不会保持欧氏距离不变，但直线间的夹角依然不变。\n",
    "![](http://jupter-oss.oss-cn-hangzhou.aliyuncs.com/public/files/image/1095279207225/1547443196475_fuxx7CbI0O.jpg)"
   ]
  },
  {
   "cell_type": "markdown",
   "metadata": {},
   "source": [
    "|变换|矩阵|自由度|保持性质|\n",
    "|:-:|:-:|:-:|:-:|\n",
    "|平移[I,t]|2x3|2|方向，长度，夹角，平行性，直线性|\n",
    "|刚体[R,t]|2x3|3|长度，夹角，平行性，直线性|\n",
    "|相似[sR,t]|2x3|4|夹角，平行性，直线性|\n",
    "|仿射[T]|2x3|6|平行性，直线性|\n",
    "|透视[T]|2x3|8|直线性|"
   ]
  },
  {
   "cell_type": "markdown",
   "metadata": {},
   "source": [
    "### 透视变换\n",
    "仿射变换后依然是平行四边形，并不能做到任意的变换。\n",
    "![](http://jupter-oss.oss-cn-hangzhou.aliyuncs.com/public/files/image/1095279207225/1547443423242_EgQu6fcnqf.jpg)"
   ]
  },
  {
   "cell_type": "markdown",
   "metadata": {},
   "source": [
    "透视变换（Perspective Transformation）是将二维的图片投影到一个三维视平面上，然后再转换到二维坐标下，所以也称为投影映射（Projective Mapping）。简单来说就是二维→三维→二维的一个过程。\n",
    "\n",
    "$$\n",
    "X=a_1x+b_1y+c_1 \\\\\n",
    "Y=a_2x+b_2y+c_2 \\\\\n",
    "Z=a_3x+b_3y+c_3\n",
    "$$\n",
    "\n",
    "$$\n",
    "\\left[\n",
    " \\begin{matrix}\n",
    "   X \\\\\n",
    "   Y \\\\\n",
    "   Z\n",
    "  \\end{matrix} \n",
    "\\right]\n",
    "=\n",
    "\\left[\n",
    " \\begin{matrix}\n",
    "   a_1 & b_1 & c_1 \\\\\n",
    "   a_2 & b_2 & c_2 \\\\\n",
    "   a_3 & b_3 & c_3\n",
    "  \\end{matrix} \n",
    "\\right]\n",
    "\\left[\n",
    " \\begin{matrix}\n",
    "   x \\\\\n",
    "   y \\\\\n",
    "   1\n",
    "  \\end{matrix} \n",
    "\\right]\n",
    "$$"
   ]
  },
  {
   "cell_type": "markdown",
   "metadata": {},
   "source": [
    "其中，$\\left[\n",
    " \\begin{matrix}\n",
    "   a_1 & b_1 \\\\\n",
    "   a_2 & b_2 \n",
    "  \\end{matrix} \n",
    "\\right]$\n",
    " 表示线性变换，\n",
    " $\n",
    "\\left[\n",
    " \\begin{matrix}\n",
    "   a_3 & b_3\n",
    "  \\end{matrix} \n",
    "\\right]\n",
    "$\n",
    "产生透视变换，其余表示平移变换，因此仿射变换是透视变换的子集。接下来再通过除以Z轴转换成二维坐标："
   ]
  },
  {
   "cell_type": "code",
   "execution_count": null,
   "metadata": {},
   "outputs": [],
   "source": []
  }
 ],
 "metadata": {
  "kernelspec": {
   "display_name": "Python 3",
   "language": "python",
   "name": "python3"
  },
  "language_info": {
   "codemirror_mode": {
    "name": "ipython",
    "version": 3
   },
   "file_extension": ".py",
   "mimetype": "text/x-python",
   "name": "python",
   "nbconvert_exporter": "python",
   "pygments_lexer": "ipython3",
   "version": "3.6.3"
  },
  "toc": {
   "base_numbering": 1,
   "nav_menu": {},
   "number_sections": true,
   "sideBar": true,
   "skip_h1_title": false,
   "title_cell": "Table of Contents",
   "title_sidebar": "Contents",
   "toc_cell": false,
   "toc_position": {},
   "toc_section_display": true,
   "toc_window_display": false
  }
 },
 "nbformat": 4,
 "nbformat_minor": 2
}
